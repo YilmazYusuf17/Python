{
 "cells": [
  {
   "cell_type": "code",
   "execution_count": 43,
   "metadata": {},
   "outputs": [],
   "source": [
    "kullanici1 = {\n",
    "    'ad': 'Ferhat',\n",
    "    'soyad': 'Ibrik',\n",
    "    'uzmanlik': ['Front-End']\n",
    "}\n",
    "kullanici2 = {\n",
    "    'ad': 'Gokce',\n",
    "    'soyad': 'Gün',\n",
    "    'uzmanlik': ['Tasarim']\n",
    "}\n",
    "kullanici3 = {\n",
    "    'ad': 'Mesut',\n",
    "    'soyad': 'Gün',\n",
    "    'uzmanlik': ['Front-End']\n",
    "}"
   ]
  },
  {
   "cell_type": "code",
   "execution_count": 3,
   "metadata": {},
   "outputs": [
    {
     "data": {
      "text/plain": [
       "['Front-End']"
      ]
     },
     "execution_count": 3,
     "metadata": {},
     "output_type": "execute_result"
    }
   ],
   "source": [
    "# Soru 1: Ferhat Ibrik Kullanicisinin uzmanlik alanlarini döndür\n",
    "kullanici1['uzmanlik']"
   ]
  },
  {
   "cell_type": "code",
   "execution_count": 7,
   "metadata": {},
   "outputs": [
    {
     "name": "stdout",
     "output_type": "stream",
     "text": [
      "Ferhat\n",
      "Mesut\n"
     ]
    }
   ],
   "source": [
    "kullanici_listesi = [kullanici1, kullanici2, kullanici3] \n",
    "\n",
    "# Soru 2: Front-end alanindaki uzmanlarin isimlerini döndür\n",
    "for x in kullanici_listesi:\n",
    "    if x['uzmanlik'] == ['Front-End']: # if 'Front-End' in x['uzmanlik']:\n",
    "        print(x['ad'])"
   ]
  },
  {
   "cell_type": "code",
   "execution_count": 45,
   "metadata": {},
   "outputs": [
    {
     "name": "stdout",
     "output_type": "stream",
     "text": [
      "['Front-End', 'Yazilim']\n"
     ]
    }
   ],
   "source": [
    "# Soru 3: Mesut kullanicisi Yazilim ögrendi, bilgileri güncelle!\n",
    "kullanici3['uzmanlik'] += ['Yazilim']\n",
    "print(kullanici3['uzmanlik'])"
   ]
  },
  {
   "cell_type": "code",
   "execution_count": 197,
   "metadata": {},
   "outputs": [
    {
     "name": "stdout",
     "output_type": "stream",
     "text": [
      "Mesut\n"
     ]
    }
   ],
   "source": [
    "# Soru 4: 1den fazla uzmanlik alani olan kullanicilari döndür (Hint: length)\n",
    "kullanici_listesi = [kullanici1, kullanici2, kullanici3] \n",
    "for x in kullanici_listesi:\n",
    "    if (len(x['uzmanlik'])) > 1:\n",
    "        print(x['ad'])"
   ]
  },
  {
   "cell_type": "code",
   "execution_count": 107,
   "metadata": {},
   "outputs": [
    {
     "name": "stdout",
     "output_type": "stream",
     "text": [
      "Ferhat\n"
     ]
    }
   ],
   "source": [
    "kullanici_yaslari_listesi = [22, 34, 32]\n",
    "# Soru 5: zip kullanarak iki listeyi birlestir ve yasi 30'dan az olan kullanicilar kimler?\n",
    "x = zip(kullanici_listesi, kullanici_yaslari_listesi)\n",
    "for y in x:\n",
    "    if y[1]<30:\n",
    "        print(y[0]['ad'])\n"
   ]
  },
  {
   "cell_type": "code",
   "execution_count": 269,
   "metadata": {},
   "outputs": [
    {
     "name": "stdout",
     "output_type": "stream",
     "text": [
      "3 sayısı asaldır.\n"
     ]
    }
   ],
   "source": [
    "### Soru 6: deger isimli degiskene atanan sayinin asal olup olmadigini söyle!\n",
    "# Hint Asal sayi: kendinden ve 1'den baska böleni olmayan sayilar örnek 2,3,5,7\n",
    "deger = 3\n",
    "x = deger-1\n",
    "if (deger <= 0):\n",
    "    print(f\"Asal sayılar pozitiftir. {deger} sayısı pozitif değildir.\")\n",
    "elif (deger == 1):\n",
    "    print(f\"{deger} sayısı asal değildir.\")\n",
    "elif (deger == 2):\n",
    "    print(f\"{deger} sayısı asaldır.\")\n",
    "else:\n",
    "    while x > 1:\n",
    "        if (deger % x == 0):\n",
    "            print(f\"{deger} sayısı asal değildir.\")\n",
    "            break\n",
    "        else:\n",
    "            x -= 1\n",
    "    else:\n",
    "        print(f\"{deger} sayısı asaldır.\")"
   ]
  }
 ],
 "metadata": {
  "kernelspec": {
   "display_name": "Python 3 (ipykernel)",
   "language": "python",
   "name": "python3"
  },
  "language_info": {
   "codemirror_mode": {
    "name": "ipython",
    "version": 3
   },
   "file_extension": ".py",
   "mimetype": "text/x-python",
   "name": "python",
   "nbconvert_exporter": "python",
   "pygments_lexer": "ipython3",
   "version": "3.11.7"
  }
 },
 "nbformat": 4,
 "nbformat_minor": 4
}
